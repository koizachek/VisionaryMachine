{
 "cells": [
  {
   "cell_type": "markdown",
   "id": "860acece",
   "metadata": {},
   "source": [
    "perform topic modeling on a small dataset in Python, you can use the Latent Dirichlet Allocation (LDA) algorithm from the gensim library. LDA is a probabilistic model that assumes that each document in a dataset is a mixture of a small number of topics, and that each word in the document is generated from one of those topics."
   ]
  },
  {
   "cell_type": "code",
   "execution_count": null,
   "id": "f7738194",
   "metadata": {},
   "outputs": [],
   "source": [
    "import csv\n",
    "import gensim\n",
    "from gensim import corpora"
   ]
  },
  {
   "cell_type": "code",
   "execution_count": null,
   "id": "ec408255",
   "metadata": {},
   "outputs": [],
   "source": [
    "# Open the CSV file and read the sentences into a list\n",
    "with open('dataset.csv', 'r') as csvfile:\n",
    "    reader = csv.reader(csvfile)\n",
    "    dataset = [row[0] for row in reader]"
   ]
  },
  {
   "cell_type": "code",
   "execution_count": null,
   "id": "60fb5f85",
   "metadata": {},
   "outputs": [],
   "source": [
    "# Tokenize the sentences (split each sentence into a list of words)\n",
    "tokenized_sentences = [sentence.split() for sentence in dataset]"
   ]
  },
  {
   "cell_type": "code",
   "execution_count": null,
   "id": "b55a4a87",
   "metadata": {},
   "outputs": [],
   "source": [
    "# Create a dictionary that maps each word to an integer ID\n",
    "dictionary = corpora.Dictionary(tokenized_sentences)"
   ]
  },
  {
   "cell_type": "code",
   "execution_count": null,
   "id": "64fc5929",
   "metadata": {},
   "outputs": [],
   "source": [
    "# Create a bag-of-words representation of the dataset\n",
    "bow_corpus = [dictionary.doc2bow(sentence) for sentence in tokenized_sentences]"
   ]
  },
  {
   "cell_type": "code",
   "execution_count": null,
   "id": "faf29e59",
   "metadata": {},
   "outputs": [],
   "source": [
    "# Create an LDA model\n",
    "lda_model = gensim.models.LdaModel(bow_corpus, num_topics=1, id2word=dictionary, passes=5)"
   ]
  },
  {
   "cell_type": "code",
   "execution_count": null,
   "id": "f8f43761",
   "metadata": {},
   "outputs": [],
   "source": [
    "# Open a new CSV file in write mode\n",
    "with open('topics.csv', 'w', newline='') as csvfile:\n",
    "    # Create a CSV writer object\n",
    "    writer = csv.writer(csvfile)\n",
    "    \n",
    "    # Write the header row\n",
    "    writer.writerow(['Sentence', 'Topic'])\n",
    "    \n",
    "    # Write the sentences and their corresponding topics to the CSV file as rows\n",
    "    for index, sentence in enumerate(dataset):\n",
    "        topic = lda_model[bow_corpus[index]][0][0]\n",
    "        writer.writerow([sentence, topic])"
   ]
  },
  {
   "cell_type": "code",
   "execution_count": null,
   "id": "c72b74b2",
   "metadata": {},
   "outputs": [],
   "source": []
  },
  {
   "cell_type": "code",
   "execution_count": null,
   "id": "1482c045",
   "metadata": {},
   "outputs": [],
   "source": []
  }
 ],
 "metadata": {
  "kernelspec": {
   "display_name": "Python 3 (ipykernel)",
   "language": "python",
   "name": "python3"
  },
  "language_info": {
   "codemirror_mode": {
    "name": "ipython",
    "version": 3
   },
   "file_extension": ".py",
   "mimetype": "text/x-python",
   "name": "python",
   "nbconvert_exporter": "python",
   "pygments_lexer": "ipython3",
   "version": "3.8.12"
  }
 },
 "nbformat": 4,
 "nbformat_minor": 5
}
