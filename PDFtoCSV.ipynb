{
 "cells": [
  {
   "cell_type": "markdown",
   "id": "41039929",
   "metadata": {},
   "source": [
    "This program iterates through the PDF files in the input_pdfs directory, extracts the text from each PDF file using the PyPDF2 library, splits the text into sentences using a regular expression, and writes the sentences to a CSV file in the output_csvs directory. The CSV file has a single column with a row for each sentence in the PDF file."
   ]
  },
  {
   "cell_type": "code",
   "execution_count": 3,
   "id": "819ef3a1",
   "metadata": {
    "scrolled": true
   },
   "outputs": [],
   "source": [
    "import os\n",
    "import csv\n",
    "import re\n",
    "import PyPDF2"
   ]
  },
  {
   "cell_type": "code",
   "execution_count": null,
   "id": "c2058a71",
   "metadata": {},
   "outputs": [],
   "source": [
    "# Set the input and output directories\n",
    "input_dir = \"input_pdfs\"\n",
    "output_dir = \"output_csvs\""
   ]
  },
  {
   "cell_type": "code",
   "execution_count": null,
   "id": "db9634c6",
   "metadata": {},
   "outputs": [],
   "source": [
    "# Create the output directory if it doesn't exist\n",
    "if not os.path.exists(output_dir):\n",
    "    os.makedirs(output_dir)"
   ]
  },
  {
   "cell_type": "code",
   "execution_count": null,
   "id": "580803fc",
   "metadata": {},
   "outputs": [],
   "source": [
    "# Iterate through the PDF files in the input directory\n",
    "for file in os.listdir(input_dir):\n",
    "    if file.endswith(\".pdf\"):\n",
    "        # Open the PDF file\n",
    "        with open(os.path.join(input_dir, file), \"rb\") as f:\n",
    "            pdf = PyPDF2.PdfFileReader(f)\n",
    "\n",
    "            # Extract the text from the PDF\n",
    "            text = \"\"\n",
    "            for page in pdf.pages:\n",
    "                text += page.extractText()\n",
    "\n",
    "            # Split the text into sentences\n",
    "            sentences = re.split(r'(?<!\\w\\.\\w.)(?<![A-Z][a-z]\\.)(?<=\\.|\\?)\\s', text)\n",
    "            \n",
    "            # Write the sentences to a CSV file\n",
    "            output_file = file.replace(\".pdf\", \".csv\")\n",
    "            with open(os.path.join(output_dir, output_file), \"w\", newline=\"\") as csvfile:\n",
    "                writer = csv.writer(csvfile)\n",
    "                for sentence in sentences:\n",
    "                    writer.writerow([sentence])"
   ]
  },
  {
   "cell_type": "code",
   "execution_count": null,
   "id": "e48517d4",
   "metadata": {},
   "outputs": [],
   "source": []
  },
  {
   "cell_type": "code",
   "execution_count": null,
   "id": "996dabfa",
   "metadata": {},
   "outputs": [],
   "source": []
  },
  {
   "cell_type": "code",
   "execution_count": null,
   "id": "1bf77008",
   "metadata": {},
   "outputs": [],
   "source": []
  },
  {
   "cell_type": "code",
   "execution_count": null,
   "id": "1d162d70",
   "metadata": {},
   "outputs": [],
   "source": []
  },
  {
   "cell_type": "code",
   "execution_count": null,
   "id": "484cd321",
   "metadata": {},
   "outputs": [],
   "source": []
  }
 ],
 "metadata": {
  "kernelspec": {
   "display_name": "Python 3 (ipykernel)",
   "language": "python",
   "name": "python3"
  },
  "language_info": {
   "codemirror_mode": {
    "name": "ipython",
    "version": 3
   },
   "file_extension": ".py",
   "mimetype": "text/x-python",
   "name": "python",
   "nbconvert_exporter": "python",
   "pygments_lexer": "ipython3",
   "version": "3.8.12"
  }
 },
 "nbformat": 4,
 "nbformat_minor": 5
}
