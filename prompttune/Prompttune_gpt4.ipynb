{
 "cells": [
  {
   "cell_type": "code",
   "execution_count": null,
   "id": "17d01143-2efd-4289-a2fb-9ef18f91b044",
   "metadata": {},
   "outputs": [],
   "source": [
    "import openai\n",
    "import pandas as pd"
   ]
  },
  {
   "cell_type": "code",
   "execution_count": null,
   "id": "e89adabd-3536-4606-a859-18127bd57a93",
   "metadata": {},
   "outputs": [],
   "source": [
    "openai.api_key = 'YOUR_API_KEY'"
   ]
  },
  {
   "cell_type": "code",
   "execution_count": null,
   "id": "21f46fad-28aa-491b-a7cb-1e3d3209586b",
   "metadata": {},
   "outputs": [],
   "source": [
    "df = pd.read_csv('/mnt/data/humanscenarios.csv')"
   ]
  },
  {
   "cell_type": "code",
   "execution_count": null,
   "id": "57470a0a-c94c-400b-a5f0-9398a6839aad",
   "metadata": {},
   "outputs": [],
   "source": [
    "ef generate_prompt(topic, year):\n",
    "    return f\"Anticipate a future scenario for the European {topic} in the {year}:\"\n",
    "\n",
    "def get_example(topic, year):\n",
    "    filtered_df = df[(df['keyword'] == topic) & (df['year'] == year)]\n",
    "    if not filtered_df.empty:\n",
    "        return filtered_df['scenario'].sample().iloc[0]\n",
    "    else:\n",
    "        return None"
   ]
  },
  {
   "cell_type": "code",
   "execution_count": null,
   "id": "99d15877-cf8f-444c-89fd-0223ccf945ff",
   "metadata": {},
   "outputs": [],
   "source": [
    "def query_gpt4(prompt):\n",
    "    response = openai.Completion.create(\n",
    "        engine=\"gpt-4\", \n",
    "        prompt=prompt,\n",
    "        max_tokens=150\n",
    "    )\n",
    "    return response.choices[0].text.strip()"
   ]
  },
  {
   "cell_type": "code",
   "execution_count": null,
   "id": "923cd8a6-6fce-4c08-bae2-0297261e3bfd",
   "metadata": {},
   "outputs": [],
   "source": [
    "def main(topic, year):\n",
    "    prompt = generate_prompt(topic, year)\n",
    "    gpt4_response = query_gpt4(prompt)\n",
    "    example = get_example(topic, year)\n",
    "    return prompt, gpt4_response, example"
   ]
  },
  {
   "cell_type": "code",
   "execution_count": null,
   "id": "8d4577ba-44a1-4efe-bfbe-3ee277c44454",
   "metadata": {},
   "outputs": [],
   "source": [
    "if __name__ == \"__main__\":\n",
    "    topics = [\"economy\", \"ecology\", \"education\", \"religion\", \"art\", \"media\", \"society\", \"technology\", \"science\", \"healthcare\", \"labour\", \"culture\"]\n",
    "    years = [2030, 2040, 2050]\n",
    "\n",
    "    results = []\n",
    "\n",
    "    for topic in topics:\n",
    "        for year in years:\n",
    "            prompt, gpt4_response, example = main(topic, year)\n",
    "            results.append({\n",
    "                'keyword': topic,\n",
    "                'prompt': prompt,\n",
    "                'year': year,\n",
    "                'scenario': example if example else gpt4_response\n",
    "            })"
   ]
  },
  {
   "cell_type": "code",
   "execution_count": null,
   "id": "cd4f20c1-7125-4831-9253-6a94cbea96a3",
   "metadata": {},
   "outputs": [],
   "source": [
    "result_df = pd.DataFrame(results)\n",
    "result_df.to_csv('/mnt/data/gpt4_scenarios.csv', index=False)"
   ]
  },
  {
   "cell_type": "code",
   "execution_count": null,
   "id": "171f97ca-248c-40d5-bd72-404e88be2da9",
   "metadata": {},
   "outputs": [],
   "source": []
  },
  {
   "cell_type": "code",
   "execution_count": null,
   "id": "cfa5d036-0705-44c8-b784-76bd28c172b4",
   "metadata": {},
   "outputs": [],
   "source": []
  }
 ],
 "metadata": {
  "kernelspec": {
   "display_name": "Python 3 (ipykernel)",
   "language": "python",
   "name": "python3"
  },
  "language_info": {
   "codemirror_mode": {
    "name": "ipython",
    "version": 3
   },
   "file_extension": ".py",
   "mimetype": "text/x-python",
   "name": "python",
   "nbconvert_exporter": "python",
   "pygments_lexer": "ipython3",
   "version": "3.12.4"
  }
 },
 "nbformat": 4,
 "nbformat_minor": 5
}
