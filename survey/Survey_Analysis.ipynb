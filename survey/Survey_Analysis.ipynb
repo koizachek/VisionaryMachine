{
 "cells": [
  {
   "cell_type": "code",
   "execution_count": null,
   "id": "77e2600d",
   "metadata": {},
   "outputs": [],
   "source": [
    "import pandas as pd, numpy as np, matplotlib.pyplot as plt, seaborn as sns"
   ]
  },
  {
   "cell_type": "code",
   "execution_count": null,
   "id": "809f4e83",
   "metadata": {},
   "outputs": [],
   "source": [
    "df = pd.read_csv('delphi.csv', delimiter = ';')\n",
    "df.head(1)"
   ]
  },
  {
   "cell_type": "code",
   "execution_count": null,
   "id": "44c1a634",
   "metadata": {},
   "outputs": [],
   "source": [
    "df.isna().sum()"
   ]
  },
  {
   "cell_type": "code",
   "execution_count": null,
   "id": "6ebff4f6",
   "metadata": {},
   "outputs": [],
   "source": [
    "df.describe()"
   ]
  },
  {
   "cell_type": "markdown",
   "id": "2d7fa583",
   "metadata": {},
   "source": [
    "## stdDev and Mean per Thesis"
   ]
  },
  {
   "cell_type": "code",
   "execution_count": null,
   "id": "c05e9999",
   "metadata": {},
   "outputs": [],
   "source": [
    "mean_std_results = []\n",
    "for i in range(1, 21):\n",
    "    thesis_col = f'Thesis {i}/Plausibility'\n",
    "    df[thesis_col] = df[thesis_col].astype(float)\n",
    "    thesis_mean = df[thesis_col].mean()\n",
    "    thesis_std = df[thesis_col].std()\n",
    "    mean_std_results.append([f'Thesis {i}', thesis_mean, thesis_std])"
   ]
  },
  {
   "cell_type": "markdown",
   "id": "2801ff47",
   "metadata": {},
   "source": [
    "## visualize"
   ]
  },
  {
   "cell_type": "code",
   "execution_count": null,
   "id": "2184edfc",
   "metadata": {},
   "outputs": [],
   "source": [
    "# create a list of thesis names\n",
    "thesis_names = [f'Thesis {i}' for i in range(1, 21)]\n",
    "\n",
    "# create empty lists for human-made, machine-made, and unknown scenarios\n",
    "human_made = []\n",
    "machine_made = []\n",
    "unknown = []\n",
    "\n",
    "# loop through each thesis\n",
    "for i in range(1, 21):\n",
    "    thesis_col = f'Thesis {i}/Scenario Source'\n",
    "    df[thesis_col].fillna('Unknown', inplace=True) # replace missing values with 'Unknown'\n",
    "    try:\n",
    "        machine_made_count = df[df[thesis_col] == 'Machine-Made Scenario'][thesis_col].count()\n",
    "    except:\n",
    "        machine_made_count = 0\n",
    "    try:\n",
    "        human_made_count = df[df[thesis_col] == 'Human-Made Scenario'][thesis_col].count()\n",
    "    except:\n",
    "        human_made_count = 0\n",
    "    try:\n",
    "        unknown_count = df[df[thesis_col] == 'Unknown'][thesis_col].count()\n",
    "    except:\n",
    "        unknown_count = 0\n",
    "    machine_made.append(machine_made_count)\n",
    "    human_made.append(human_made_count)\n",
    "    unknown.append(unknown_count)"
   ]
  },
  {
   "cell_type": "code",
   "execution_count": null,
   "id": "17fc786e",
   "metadata": {},
   "outputs": [],
   "source": [
    "# plot the bar chart\n",
    "sns.set(style=\"white\", font='monospace')\n",
    "plt.figure(figsize=(12,8), dpi=300)\n",
    "plt.barh(thesis_names, human_made, color='#000000')\n",
    "plt.barh(thesis_names, machine_made, left=human_made, color='darkgrey')\n",
    "plt.barh(thesis_names, unknown, left=[human_made[i] + machine_made[i] for i in range(20)], color='#d1d1d1')\n",
    "plt.xlim(0, max([sum(x) for x in zip(human_made, machine_made, unknown)]) + 10)\n",
    "plt.xlabel('Number of Responses', fontsize = 12)\n",
    "plt.title('Human-Made or Machine-Made Scenario', fontsize = 16)\n",
    "plt.legend(['Human-Made', 'GPT-Made', 'No Answer'])\n",
    "sns.despine(trim=False)\n",
    "plt.show()"
   ]
  },
  {
   "cell_type": "markdown",
   "id": "b7ce9952",
   "metadata": {},
   "source": [
    "# Spearman Correlation Coefficient"
   ]
  },
  {
   "cell_type": "code",
   "execution_count": null,
   "id": "ec0e2eb7",
   "metadata": {},
   "outputs": [],
   "source": [
    "from scipy.stats import spearmanr\n",
    "# Your existing code to calculate correlation coefficients\n",
    "correlation_results = []\n",
    "for i in range(1, 21):\n",
    "    source_col = f\"Thesis {i}/Scenario Source\"\n",
    "    plausibility_col = f\"Thesis {i}/Plausibility\"\n",
    "    \n",
    "    filtered_df = df[[source_col, plausibility_col]].dropna()\n",
    "    filtered_df[source_col] = filtered_df[source_col].replace({1: 'Human-Made Scenario', 0: 'Machine-Made Scenario'})\n",
    "    \n",
    "    corr_coef, p_value = spearmanr(filtered_df[source_col], filtered_df[plausibility_col])\n",
    "    \n",
    "    correlation_results.append([f'Thesis {i}', corr_coef])"
   ]
  },
  {
   "cell_type": "code",
   "execution_count": null,
   "id": "41250ab6",
   "metadata": {},
   "outputs": [],
   "source": [
    "# Save the results to a CSV file\n",
    "mean_std_df = pd.DataFrame(mean_std_results, columns=['Thesis', 'Mean', 'StdDev'])\n",
    "correlation_df = pd.DataFrame(correlation_results, columns=['Thesis', 'Correlation Coefficient'])\n",
    "result_df = pd.merge(mean_std_df, correlation_df, on='Thesis')\n",
    "#result_df.to_csv('delphi_stat_results.csv', index=False)"
   ]
  },
  {
   "cell_type": "code",
   "execution_count": null,
   "id": "ed8c9aa2",
   "metadata": {},
   "outputs": [],
   "source": []
  }
 ],
 "metadata": {
  "kernelspec": {
   "display_name": "Python 3 (ipykernel)",
   "language": "python",
   "name": "python3"
  },
  "language_info": {
   "codemirror_mode": {
    "name": "ipython",
    "version": 3
   },
   "file_extension": ".py",
   "mimetype": "text/x-python",
   "name": "python",
   "nbconvert_exporter": "python",
   "pygments_lexer": "ipython3",
   "version": "3.8.12"
  }
 },
 "nbformat": 4,
 "nbformat_minor": 5
}
