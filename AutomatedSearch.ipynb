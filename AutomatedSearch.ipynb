{
 "cells": [
  {
   "cell_type": "markdown",
   "id": "ddb96478",
   "metadata": {},
   "source": [
    "This program defines a search() function that takes a base URL and query parameters as input and returns the search results from the specified website. The program then calls the search() function twice, with different base URLs and query parameters, to search several (scientific) databases."
   ]
  },
  {
   "cell_type": "code",
   "execution_count": null,
   "id": "c996c8b5",
   "metadata": {},
   "outputs": [],
   "source": [
    "import requests\n",
    "from bs4 import BeautifulSoup\n",
    "import csv"
   ]
  },
  {
   "cell_type": "code",
   "execution_count": null,
   "id": "971ab45d",
   "metadata": {},
   "outputs": [],
   "source": [
    "def search(base_url, params):\n",
    "    # Send the GET request and store the response\n",
    "    response = requests.get(base_url, params=params)\n",
    "\n",
    "    # Parse the response HTML with BeautifulSoup\n",
    "    soup = BeautifulSoup(response.text, \"html.parser\")\n",
    "\n",
    "    # Find all the search results in the HTML\n",
    "    results = soup.find_all(\"div\", class_=\"result\")\n",
    "    \n",
    "    # Write the search results to a CSV file\n",
    "    with open(\"search_results.csv\", \"w\", newline=\"\") as csvfile:\n",
    "        writer = csv.writer(csvfile)\n",
    "        writer.writerow([\"Title\", \"Abstract\"])  # Write the header row\n",
    "        \n",
    "        for result in results:\n",
    "            title = result.find(\"h3\").text\n",
    "            abstract = result.find(\"p\").text\n",
    "            writer.writerow([title, abstract]) \n",
    "            # Write the search result as a row"
   ]
  },
  {
   "cell_type": "code",
   "execution_count": null,
   "id": "c7c25b8f",
   "metadata": {},
   "outputs": [],
   "source": [
    "# Set the base URL and query parameters for the search\n",
    "base_url_1 = \"https://www.researchgate.net/search\"\n",
    "params_1 = {\n",
    "    \"term\": \"future scenario 2030\",  # Set the search query\n",
    "}"
   ]
  },
  {
   "cell_type": "code",
   "execution_count": null,
   "id": "1b020ca5",
   "metadata": {},
   "outputs": [],
   "source": [
    "# Search the Researchgate database\n",
    "search(base_url_1, params_1)"
   ]
  },
  {
   "cell_type": "code",
   "execution_count": null,
   "id": "6d2f2ea3",
   "metadata": {},
   "outputs": [],
   "source": [
    "# Set the base URL and query parameters for the search\n",
    "base_url_2 = \"https://www.sciencedirect.com/search\"\n",
    "params_2 = {\n",
    "    \"query\": \"future scenario 2030\",  # Set the search query\n",
    "}"
   ]
  },
  {
   "cell_type": "code",
   "execution_count": null,
   "id": "0ad29405",
   "metadata": {},
   "outputs": [],
   "source": [
    "# Search the ScienceDirect database\n",
    "search(base_url_2, params_2)"
   ]
  },
  {
   "cell_type": "code",
   "execution_count": null,
   "id": "424c7d20",
   "metadata": {},
   "outputs": [],
   "source": [
    "# Set the base URL and query parameters for the search\n",
    "base_url_3 = \"https://www.sciencedirect.com/search\"\n",
    "params_3 = {\n",
    "    \"query\": \"future scenario 2030\",  # Set the search query\n",
    "}"
   ]
  },
  {
   "cell_type": "code",
   "execution_count": null,
   "id": "32fcd6fc",
   "metadata": {},
   "outputs": [],
   "source": [
    "# Search the ScienceDirect database\n",
    "search(base_url_3, params_3)"
   ]
  }
 ],
 "metadata": {
  "kernelspec": {
   "display_name": "Python 3 (ipykernel)",
   "language": "python",
   "name": "python3"
  },
  "language_info": {
   "codemirror_mode": {
    "name": "ipython",
    "version": 3
   },
   "file_extension": ".py",
   "mimetype": "text/x-python",
   "name": "python",
   "nbconvert_exporter": "python",
   "pygments_lexer": "ipython3",
   "version": "3.8.12"
  }
 },
 "nbformat": 4,
 "nbformat_minor": 5
}
