{
 "cells": [
  {
   "cell_type": "markdown",
   "id": "20ac2584",
   "metadata": {},
   "source": [
    "# Create a subset of the human-made scenarios"
   ]
  },
  {
   "cell_type": "code",
   "execution_count": 1,
   "id": "5ac7b8c6",
   "metadata": {},
   "outputs": [],
   "source": [
    "import pandas as pd\n",
    "import random"
   ]
  },
  {
   "cell_type": "code",
   "execution_count": 14,
   "id": "30f9e8eb",
   "metadata": {},
   "outputs": [],
   "source": [
    "df = pd.read_csv('ScenarioCollection2023.csv')"
   ]
  },
  {
   "cell_type": "code",
   "execution_count": 10,
   "id": "24946c9e",
   "metadata": {},
   "outputs": [],
   "source": [
    "num_sentences = 1080\n",
    "subset = df.sample(n=num_sentences, replace=False, random_state=49)[['year','scenario']]"
   ]
  },
  {
   "cell_type": "code",
   "execution_count": 11,
   "id": "02501ec1",
   "metadata": {},
   "outputs": [
    {
     "data": {
      "text/html": [
       "<div>\n",
       "<style scoped>\n",
       "    .dataframe tbody tr th:only-of-type {\n",
       "        vertical-align: middle;\n",
       "    }\n",
       "\n",
       "    .dataframe tbody tr th {\n",
       "        vertical-align: top;\n",
       "    }\n",
       "\n",
       "    .dataframe thead th {\n",
       "        text-align: right;\n",
       "    }\n",
       "</style>\n",
       "<table border=\"1\" class=\"dataframe\">\n",
       "  <thead>\n",
       "    <tr style=\"text-align: right;\">\n",
       "      <th></th>\n",
       "      <th>year</th>\n",
       "      <th>scenario</th>\n",
       "    </tr>\n",
       "  </thead>\n",
       "  <tbody>\n",
       "    <tr>\n",
       "      <th>882</th>\n",
       "      <td>2030</td>\n",
       "      <td>The EU27 continues to lead the global fight ag...</td>\n",
       "    </tr>\n",
       "    <tr>\n",
       "      <th>50</th>\n",
       "      <td>2030</td>\n",
       "      <td>the extreme position that due to the increased...</td>\n",
       "    </tr>\n",
       "    <tr>\n",
       "      <th>1432</th>\n",
       "      <td>2050</td>\n",
       "      <td>Earth reaches 1:1 consumption rate resulting f...</td>\n",
       "    </tr>\n",
       "    <tr>\n",
       "      <th>1222</th>\n",
       "      <td>2035</td>\n",
       "      <td>considerable tax breaks for synthetic food pro...</td>\n",
       "    </tr>\n",
       "    <tr>\n",
       "      <th>17</th>\n",
       "      <td>2030</td>\n",
       "      <td>one-person households increased from 40 percen...</td>\n",
       "    </tr>\n",
       "    <tr>\n",
       "      <th>...</th>\n",
       "      <td>...</td>\n",
       "      <td>...</td>\n",
       "    </tr>\n",
       "    <tr>\n",
       "      <th>1416</th>\n",
       "      <td>2050</td>\n",
       "      <td>the world boasts a balanced biosphere: humanit...</td>\n",
       "    </tr>\n",
       "    <tr>\n",
       "      <th>355</th>\n",
       "      <td>2030</td>\n",
       "      <td>demographic change, the longevity of society, ...</td>\n",
       "    </tr>\n",
       "    <tr>\n",
       "      <th>1014</th>\n",
       "      <td>2030</td>\n",
       "      <td>The transfer and sharing of information and kn...</td>\n",
       "    </tr>\n",
       "    <tr>\n",
       "      <th>835</th>\n",
       "      <td>2030</td>\n",
       "      <td>economics and social sciences provide importan...</td>\n",
       "    </tr>\n",
       "    <tr>\n",
       "      <th>747</th>\n",
       "      <td>2030</td>\n",
       "      <td>a large part of global economic activity will ...</td>\n",
       "    </tr>\n",
       "  </tbody>\n",
       "</table>\n",
       "<p>1080 rows × 2 columns</p>\n",
       "</div>"
      ],
      "text/plain": [
       "      year                                           scenario\n",
       "882   2030  The EU27 continues to lead the global fight ag...\n",
       "50    2030  the extreme position that due to the increased...\n",
       "1432  2050  Earth reaches 1:1 consumption rate resulting f...\n",
       "1222  2035  considerable tax breaks for synthetic food pro...\n",
       "17    2030  one-person households increased from 40 percen...\n",
       "...    ...                                                ...\n",
       "1416  2050  the world boasts a balanced biosphere: humanit...\n",
       "355   2030  demographic change, the longevity of society, ...\n",
       "1014  2030  The transfer and sharing of information and kn...\n",
       "835   2030  economics and social sciences provide importan...\n",
       "747   2030  a large part of global economic activity will ...\n",
       "\n",
       "[1080 rows x 2 columns]"
      ]
     },
     "execution_count": 11,
     "metadata": {},
     "output_type": "execute_result"
    }
   ],
   "source": [
    "subset"
   ]
  },
  {
   "cell_type": "code",
   "execution_count": 13,
   "id": "a59371ec",
   "metadata": {},
   "outputs": [],
   "source": [
    "new_df = pd.DataFrame(subset, columns=['year','scenario'])\n",
    "new_df.to_csv('random_human_scenarios.csv', index=True)"
   ]
  },
  {
   "cell_type": "code",
   "execution_count": null,
   "id": "96985073",
   "metadata": {},
   "outputs": [],
   "source": []
  },
  {
   "cell_type": "code",
   "execution_count": null,
   "id": "d3445ade",
   "metadata": {},
   "outputs": [],
   "source": []
  },
  {
   "cell_type": "code",
   "execution_count": null,
   "id": "17ef31c5",
   "metadata": {},
   "outputs": [],
   "source": []
  },
  {
   "cell_type": "markdown",
   "id": "9c219568",
   "metadata": {},
   "source": [
    "# create a subset with all scenarios"
   ]
  },
  {
   "cell_type": "code",
   "execution_count": null,
   "id": "b160f88c",
   "metadata": {},
   "outputs": [],
   "source": [
    "csv_files = ['random_human_scenarios.csv', 'gpt3_scenarios.csv', 'gpt35_scenarios.csv']"
   ]
  },
  {
   "cell_type": "code",
   "execution_count": null,
   "id": "1ac8a3d7",
   "metadata": {},
   "outputs": [],
   "source": [
    "subsets = []"
   ]
  },
  {
   "cell_type": "code",
   "execution_count": null,
   "id": "feff119f",
   "metadata": {},
   "outputs": [],
   "source": [
    "# loop over each CSV file\n",
    "for file in csv_files:\n",
    "    # load the CSV file into a pandas DataFrame\n",
    "    df = pd.read_csv(file)\n",
    "\n",
    "    num_sentences = 7\n",
    "    subset = df.sample(n=num_sentences, replace=False, random_state=99)[['year','scenario']]\n",
    "    \n",
    "    # add the subset of sentences to the list\n",
    "    subsets.append(subset)"
   ]
  },
  {
   "cell_type": "code",
   "execution_count": null,
   "id": "07329ade",
   "metadata": {},
   "outputs": [],
   "source": [
    "# combine the subsets of sentences into a single DataFrame\n",
    "combined_df = pd.concat(subsets, axis=0, ignore_index=True)\n",
    "\n",
    "# save the combined DataFrame as a CSV file\n",
    "combined_df.to_csv('combined_sentences.csv', index=False)"
   ]
  },
  {
   "cell_type": "code",
   "execution_count": null,
   "id": "4aaa1a48",
   "metadata": {},
   "outputs": [],
   "source": []
  },
  {
   "cell_type": "code",
   "execution_count": null,
   "id": "9c28fbc0",
   "metadata": {},
   "outputs": [],
   "source": []
  }
 ],
 "metadata": {
  "kernelspec": {
   "display_name": "Python 3 (ipykernel)",
   "language": "python",
   "name": "python3"
  },
  "language_info": {
   "codemirror_mode": {
    "name": "ipython",
    "version": 3
   },
   "file_extension": ".py",
   "mimetype": "text/x-python",
   "name": "python",
   "nbconvert_exporter": "python",
   "pygments_lexer": "ipython3",
   "version": "3.8.12"
  }
 },
 "nbformat": 4,
 "nbformat_minor": 5
}
