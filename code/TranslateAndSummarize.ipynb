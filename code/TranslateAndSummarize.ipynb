{
 "cells": [
  {
   "cell_type": "code",
   "execution_count": null,
   "id": "6f5f1e02",
   "metadata": {},
   "outputs": [],
   "source": [
    "import sumy\n",
    "from googletrans import Translator\n",
    "from sumy.parsers.plaintext import PlaintextParser\n",
    "from sumy.nlp.tokenizers import Tokenizer\n",
    "from sumy.summarizers.lex_rank import LexRankSummarizer"
   ]
  },
  {
   "cell_type": "code",
   "execution_count": null,
   "id": "1eebbc7d",
   "metadata": {},
   "outputs": [],
   "source": [
    "def translate_text(text, src=\"de\", dest=\"en\"):\n",
    "    # Create a Translator object\n",
    "    translator = Translator()\n",
    "\n",
    "    # Translate the text and return the translated text\n",
    "    return translator.translate(text, src=src, dest=dest).text"
   ]
  },
  {
   "cell_type": "code",
   "execution_count": null,
   "id": "372e09f6",
   "metadata": {},
   "outputs": [],
   "source": [
    "def summarize_text(text, word_count=50):\n",
    "    # Create a PlaintextParser object\n",
    "    parser = PlaintextParser.from_string(text, Tokenizer(\"english\"))\n",
    "\n",
    "    # Create a LexRankSummarizer object\n",
    "    summarizer = LexRankSummarizer()\n",
    "\n",
    "    # Summarize the text and return the summary as a single string\n",
    "    summary = sumy.summarize(parser.document, word_count, summarizer=summarizer)\n",
    "    return \" \".join([str(sentence) for sentence in summary])"
   ]
  },
  {
   "cell_type": "code",
   "execution_count": null,
   "id": "352f2ce4",
   "metadata": {},
   "outputs": [],
   "source": [
    "# Test the translate_text() and summarize_text() functions/ here you can add your scenario\n",
    "text = \"Dies ist ein langer Absatz auf Deutsch, den wir ins Englische übersetzen und dann zusammenfassen möchten. Er kann mehrere Sätze und Absätze enthalten. Das Ziel ist es, eine Zusammenfassung zu erstellen, die die wichtigsten Punkte des Textes in kurzer und zusammenhängender Form wiedergibt. Dies kann nützlich sein, um schnell die wichtigsten Ideen eines Dokuments zu verstehen, ohne das gesamte Dokument lesen zu müssen. Es gibt verschiedene Techniken für die Textzusammenfassung, wie das Extrahieren wichtiger Sätze oder die Verwendung von Algorithmen zur natürlichen Sprachverarbeitung, um die relevantesten Informationen zu identifizieren.\""
   ]
  },
  {
   "cell_type": "code",
   "execution_count": null,
   "id": "18ad1aa4",
   "metadata": {},
   "outputs": [],
   "source": [
    "translated_text = translate_text(text)\n",
    "summary = summarize_text(translated_text)\n",
    "print(summary)"
   ]
  },
  {
   "cell_type": "code",
   "execution_count": null,
   "id": "bcd221ce",
   "metadata": {},
   "outputs": [],
   "source": [
    "import csv\n",
    "\n",
    "# Open a file in write mode\n",
    "with open('translation_and_summary.csv', 'w', newline='') as csvfile:\n",
    "    # Create a CSV writer object\n",
    "    writer = csv.writer(csvfile)\n",
    "    \n",
    "    # Write the translated paragraph and summary to the CSV file as separate rows\n",
    "    writer.writerow([english_paragraph])\n",
    "    writer.writerow([summary])"
   ]
  },
  {
   "cell_type": "code",
   "execution_count": null,
   "id": "bc135b1e",
   "metadata": {},
   "outputs": [],
   "source": []
  },
  {
   "cell_type": "code",
   "execution_count": null,
   "id": "0b21e431",
   "metadata": {},
   "outputs": [],
   "source": []
  },
  {
   "cell_type": "code",
   "execution_count": null,
   "id": "675c8488",
   "metadata": {},
   "outputs": [],
   "source": []
  }
 ],
 "metadata": {
  "kernelspec": {
   "display_name": "Python 3 (ipykernel)",
   "language": "python",
   "name": "python3"
  },
  "language_info": {
   "codemirror_mode": {
    "name": "ipython",
    "version": 3
   },
   "file_extension": ".py",
   "mimetype": "text/x-python",
   "name": "python",
   "nbconvert_exporter": "python",
   "pygments_lexer": "ipython3",
   "version": "3.8.12"
  }
 },
 "nbformat": 4,
 "nbformat_minor": 5
}
