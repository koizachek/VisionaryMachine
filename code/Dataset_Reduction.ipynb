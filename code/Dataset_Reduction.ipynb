{
 "cells": [
  {
   "cell_type": "markdown",
   "id": "9355a0a5",
   "metadata": {},
   "source": [
    "# Create a subset dominant scenarios\n",
    "\n",
    "most scenarios concerned 2030, therefore, I reduced this dataset through randomization"
   ]
  },
  {
   "cell_type": "code",
   "execution_count": null,
   "id": "913374e1",
   "metadata": {},
   "outputs": [],
   "source": [
    "import pandas as pd\n",
    "import random"
   ]
  },
  {
   "cell_type": "code",
   "execution_count": null,
   "id": "98f3902f",
   "metadata": {},
   "outputs": [],
   "source": [
    "df = pd.read_excel('../Szenario/Scenarios2030.xlsx')"
   ]
  },
  {
   "cell_type": "code",
   "execution_count": null,
   "id": "31e32d89",
   "metadata": {},
   "outputs": [],
   "source": [
    "num_sentences = 552\n",
    "subset = df.sample(n=num_sentences, replace=False, random_state=49)[['year','scenario', 'keyword']]"
   ]
  },
  {
   "cell_type": "code",
   "execution_count": null,
   "id": "2d53cd5b",
   "metadata": {},
   "outputs": [],
   "source": [
    "new_df = pd.DataFrame(subset, columns=['year','scenario', 'keyword'])\n",
    "#new_df.to_csv('random_human_scenarios2030.csv', index=True)"
   ]
  },
  {
   "cell_type": "markdown",
   "id": "b94134c4",
   "metadata": {},
   "source": [
    "# check how topics/years are distributed\n",
    "to ensure an equal topic distribution"
   ]
  },
  {
   "cell_type": "code",
   "execution_count": null,
   "id": "267e9753",
   "metadata": {},
   "outputs": [],
   "source": [
    "df = pd.read_excel('../Szenario/human_scenarios.xlsx')"
   ]
  },
  {
   "cell_type": "code",
   "execution_count": null,
   "id": "bc87db02",
   "metadata": {},
   "outputs": [],
   "source": [
    "# count the number of sentences in each year\n",
    "counts = df['year'].value_counts()\n",
    "counts"
   ]
  },
  {
   "cell_type": "code",
   "execution_count": null,
   "id": "9a904c18",
   "metadata": {},
   "outputs": [],
   "source": [
    "# count the number of sentences in each year\n",
    "topics = df['keyword'].value_counts()\n",
    "topics"
   ]
  },
  {
   "cell_type": "code",
   "execution_count": null,
   "id": "20ed3c0e",
   "metadata": {},
   "outputs": [],
   "source": []
  }
 ],
 "metadata": {
  "kernelspec": {
   "display_name": "Python 3 (ipykernel)",
   "language": "python",
   "name": "python3"
  },
  "language_info": {
   "codemirror_mode": {
    "name": "ipython",
    "version": 3
   },
   "file_extension": ".py",
   "mimetype": "text/x-python",
   "name": "python",
   "nbconvert_exporter": "python",
   "pygments_lexer": "ipython3",
   "version": "3.8.12"
  }
 },
 "nbformat": 4,
 "nbformat_minor": 5
}
