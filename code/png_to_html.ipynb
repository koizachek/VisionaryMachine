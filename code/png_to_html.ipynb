{
 "cells": [
  {
   "cell_type": "code",
   "execution_count": 1,
   "id": "ace56609",
   "metadata": {},
   "outputs": [],
   "source": [
    "import base64"
   ]
  },
  {
   "cell_type": "code",
   "execution_count": 16,
   "id": "54ef9e44",
   "metadata": {},
   "outputs": [],
   "source": [
    "# Define image title and file name\n",
    "image_title = \"workflow_chapter3\"\n",
    "file_name = image_title + \".html\"\n",
    "\n",
    "with open('workflow_chapter3.png', 'rb') as image_file:\n",
    "    encoded_image = base64.b64encode(image_file.read()).decode('utf-8')\n",
    "\n",
    "# Create HTML code with embedded image\n",
    "html_code = '<html>\\n<head>\\n<title>' + image_title + '</title>\\n</head>\\n<body>\\n'\n",
    "html_code += '<img src=\"data:image/jpeg;base64,' + encoded_image + '\">\\n'\n",
    "html_code += '</body>\\n</html>'\n",
    "\n",
    "# Save HTML code to file\n",
    "with open(file_name, 'w') as file:\n",
    "    file.write(html_code)"
   ]
  },
  {
   "cell_type": "code",
   "execution_count": null,
   "id": "0c44ceea",
   "metadata": {},
   "outputs": [],
   "source": []
  }
 ],
 "metadata": {
  "kernelspec": {
   "display_name": "Python 3 (ipykernel)",
   "language": "python",
   "name": "python3"
  },
  "language_info": {
   "codemirror_mode": {
    "name": "ipython",
    "version": 3
   },
   "file_extension": ".py",
   "mimetype": "text/x-python",
   "name": "python",
   "nbconvert_exporter": "python",
   "pygments_lexer": "ipython3",
   "version": "3.8.12"
  }
 },
 "nbformat": 4,
 "nbformat_minor": 5
}
