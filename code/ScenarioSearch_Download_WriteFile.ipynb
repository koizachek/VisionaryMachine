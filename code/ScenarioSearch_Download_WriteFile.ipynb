{
 "cells": [
  {
   "cell_type": "code",
   "execution_count": null,
   "id": "288edd60",
   "metadata": {},
   "outputs": [],
   "source": [
    "import os\n",
    "import csv\n",
    "import requests\n",
    "from bs4 import BeautifulSoup"
   ]
  },
  {
   "cell_type": "code",
   "execution_count": null,
   "id": "ee1e0221",
   "metadata": {},
   "outputs": [],
   "source": [
    "# set up search query and search engine\n",
    "search_query = \"future scenarios site:.gov OR site:.edu OR site:.org\"\n",
    "target_website = \"https://www.google.com/search?q=\" + search_query"
   ]
  },
  {
   "cell_type": "code",
   "execution_count": null,
   "id": "75a17c87",
   "metadata": {},
   "outputs": [],
   "source": [
    "# make a GET request to the target website\n",
    "response = requests.get(target_website)"
   ]
  },
  {
   "cell_type": "code",
   "execution_count": null,
   "id": "53919d82",
   "metadata": {},
   "outputs": [],
   "source": [
    "# parse the HTML content using BeautifulSoup\n",
    "soup = BeautifulSoup(response.content, 'html.parser')"
   ]
  },
  {
   "cell_type": "code",
   "execution_count": null,
   "id": "7da083b1",
   "metadata": {},
   "outputs": [],
   "source": [
    "# find all search result links\n",
    "search_results = soup.find_all('a')"
   ]
  },
  {
   "cell_type": "code",
   "execution_count": null,
   "id": "80fb2ef8",
   "metadata": {},
   "outputs": [],
   "source": [
    "# filter and store only the relevant links\n",
    "links = []\n",
    "for result in search_results:\n",
    "    link = result.get('href')\n",
    "    if link.startswith(\"http\") and (\"pdf\" in link or \"doc\" in link or \"docx\" in link):\n",
    "        links.append(link)"
   ]
  },
  {
   "cell_type": "code",
   "execution_count": null,
   "id": "7086725f",
   "metadata": {},
   "outputs": [],
   "source": [
    "# download files and save metadata in a CSV file\n",
    "metadata = []\n",
    "for link in links:\n",
    "    response = requests.get(link)\n",
    "    file_name = os.path.basename(link)\n",
    "    title = BeautifulSoup(response.content, 'html.parser').title.string\n",
    "    metadata.append([link, file_name, title])\n",
    "    with open(file_name, 'wb') as f:\n",
    "        f.write(response.content)"
   ]
  },
  {
   "cell_type": "code",
   "execution_count": null,
   "id": "370c8082",
   "metadata": {},
   "outputs": [],
   "source": [
    "# save metadata to a CSV file\n",
    "with open('metadata.csv', mode='w', newline='') as file:\n",
    "    writer = csv.writer(file)\n",
    "    writer.writerow(['URL', 'File Name', 'Website Title'])\n",
    "    for row in metadata:\n",
    "        writer.writerow(row)"
   ]
  },
  {
   "cell_type": "code",
   "execution_count": null,
   "id": "d4274ec0",
   "metadata": {},
   "outputs": [],
   "source": []
  }
 ],
 "metadata": {
  "kernelspec": {
   "display_name": "Python 3 (ipykernel)",
   "language": "python",
   "name": "python3"
  },
  "language_info": {
   "codemirror_mode": {
    "name": "ipython",
    "version": 3
   },
   "file_extension": ".py",
   "mimetype": "text/x-python",
   "name": "python",
   "nbconvert_exporter": "python",
   "pygments_lexer": "ipython3",
   "version": "3.8.12"
  }
 },
 "nbformat": 4,
 "nbformat_minor": 5
}
