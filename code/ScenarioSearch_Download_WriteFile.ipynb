{
 "cells": [
  {
   "cell_type": "code",
   "execution_count": 39,
   "id": "48cc4935",
   "metadata": {},
   "outputs": [],
   "source": [
    "import csv\n",
    "import os\n",
    "import requests\n",
    "import urllib.parse\n",
    "from bs4 import BeautifulSoup\n",
    "from googlesearch import search"
   ]
  },
  {
   "cell_type": "code",
   "execution_count": 40,
   "id": "ad503d48",
   "metadata": {},
   "outputs": [],
   "source": [
    "#!pip install googlesearch-python"
   ]
  },
  {
   "cell_type": "code",
   "execution_count": 41,
   "id": "8ff6f177",
   "metadata": {},
   "outputs": [],
   "source": [
    "# Set search query and number of search results to retrieve and date of publishing \n",
    "query = \"future scenarios site:.edu OR site:.gov OR site:.org after:2017\"\n",
    "num_results = 10"
   ]
  },
  {
   "cell_type": "code",
   "execution_count": 42,
   "id": "2a9e9a42",
   "metadata": {},
   "outputs": [],
   "source": [
    "# Define CSV output file and write header\n",
    "output_file = \"search_results.csv\"\n",
    "with open(output_file, \"w\", newline=\"\", encoding=\"utf-8\") as f:\n",
    "    writer = csv.writer(f)\n",
    "    writer.writerow([\"Title\", \"URL\", \"Publication Date\"])"
   ]
  },
  {
   "cell_type": "code",
   "execution_count": 46,
   "id": "c238320b",
   "metadata": {},
   "outputs": [],
   "source": [
    "# Create directory for downloaded files // NOTE: You must have the folder in the same directory as this program\n",
    "if not os.path.exists(\"downloaded_scenarios\"):\n",
    "    os.makedirs(\"downloaded_scenarios\")"
   ]
  },
  {
   "cell_type": "code",
   "execution_count": 45,
   "id": "35652bd5",
   "metadata": {},
   "outputs": [],
   "source": [
    "# Iterate over search results and extract information\n",
    "for url in search(query, num_results=num_results):\n",
    "    try:\n",
    "        response = requests.get(url)\n",
    "        if response.status_code == 200:\n",
    "            soup = BeautifulSoup(response.content, 'html.parser')\n",
    "            title = soup.title.string.strip()\n",
    "            pub_date = soup.find_all('meta', {'name': 'DC.date.issued'})[0].get('content') if soup.find_all('meta', {'name': 'DC.date.issued'}) else \"\"\n",
    "            with open(os.path.join(\"downloaded_scenarios\", title + \".html\"), \"w\", encoding=\"utf-8\") as f:\n",
    "                f.write(response.text)\n",
    "            with open(output_file, \"a\", newline=\"\", encoding=\"utf-8\") as f:\n",
    "                writer = csv.writer(f)\n",
    "                writer.writerow([title, url, pub_date])\n",
    "    except Exception as e:\n",
    "        print(e)"
   ]
  },
  {
   "cell_type": "code",
   "execution_count": null,
   "id": "234e7ce2",
   "metadata": {},
   "outputs": [],
   "source": []
  },
  {
   "cell_type": "code",
   "execution_count": null,
   "id": "59ab3455",
   "metadata": {},
   "outputs": [],
   "source": []
  },
  {
   "cell_type": "code",
   "execution_count": null,
   "id": "1e2d9e38",
   "metadata": {},
   "outputs": [],
   "source": []
  },
  {
   "cell_type": "code",
   "execution_count": null,
   "id": "f8544045",
   "metadata": {},
   "outputs": [],
   "source": []
  }
 ],
 "metadata": {
  "kernelspec": {
   "display_name": "Python 3 (ipykernel)",
   "language": "python",
   "name": "python3"
  },
  "language_info": {
   "codemirror_mode": {
    "name": "ipython",
    "version": 3
   },
   "file_extension": ".py",
   "mimetype": "text/x-python",
   "name": "python",
   "nbconvert_exporter": "python",
   "pygments_lexer": "ipython3",
   "version": "3.8.12"
  }
 },
 "nbformat": 4,
 "nbformat_minor": 5
}
