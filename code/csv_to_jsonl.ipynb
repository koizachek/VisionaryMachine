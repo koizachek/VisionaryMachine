{
 "cells": [
  {
   "cell_type": "markdown",
   "id": "074d3cef",
   "metadata": {},
   "source": [
    "Preparing your training data"
   ]
  },
  {
   "cell_type": "code",
   "execution_count": 16,
   "id": "420a6bc1",
   "metadata": {},
   "outputs": [],
   "source": [
    "import csv\n",
    "import json"
   ]
  },
  {
   "cell_type": "code",
   "execution_count": 23,
   "id": "9b43b2ba",
   "metadata": {},
   "outputs": [],
   "source": [
    "def csv_to_jsonl(csv_file, jsonl_file):\n",
    "    with open(csv_file, 'r', encoding='utf-8-sig') as file:\n",
    "        reader = csv.DictReader(file, delimiter=';')\n",
    "        header = [column.strip('\\ufeff') for column in reader.fieldnames]  # Remove BOM from column names\n",
    "        print(header)  # Debugging: Print the header row\n",
    "        with open(jsonl_file, 'w') as outfile:\n",
    "            for row in reader:\n",
    "                prompt = row['prompt']\n",
    "                completion = row['completion']\n",
    "                item = {\"prompt\": prompt, \"completion\": completion}\n",
    "                json.dump(item, outfile)\n",
    "                outfile.write('\\n')\n",
    "\n",
    "    print(f\"Conversion completed. JSONL file saved as '{jsonl_file}'.\")"
   ]
  },
  {
   "cell_type": "code",
   "execution_count": 24,
   "id": "3ee58a94",
   "metadata": {},
   "outputs": [
    {
     "name": "stdout",
     "output_type": "stream",
     "text": [
      "['prompt', 'completion']\n",
      "Conversion completed. JSONL file saved as 'allgpt_readytofine.jsonl'.\n"
     ]
    }
   ],
   "source": [
    "csv_file = 'allgpttofine.csv'\n",
    "jsonl_file = 'allgpt_readytofine.jsonl'\n",
    "csv_to_jsonl(csv_file, jsonl_file)"
   ]
  },
  {
   "cell_type": "code",
   "execution_count": null,
   "id": "9a8a93e8",
   "metadata": {},
   "outputs": [],
   "source": []
  },
  {
   "cell_type": "code",
   "execution_count": null,
   "id": "0f5efbfc",
   "metadata": {},
   "outputs": [],
   "source": []
  }
 ],
 "metadata": {
  "kernelspec": {
   "display_name": "Python 3 (ipykernel)",
   "language": "python",
   "name": "python3"
  },
  "language_info": {
   "codemirror_mode": {
    "name": "ipython",
    "version": 3
   },
   "file_extension": ".py",
   "mimetype": "text/x-python",
   "name": "python",
   "nbconvert_exporter": "python",
   "pygments_lexer": "ipython3",
   "version": "3.8.12"
  }
 },
 "nbformat": 4,
 "nbformat_minor": 5
}
