{
 "cells": [
  {
   "cell_type": "code",
   "execution_count": 1,
   "id": "24ceab35",
   "metadata": {},
   "outputs": [],
   "source": [
    "import os\n",
    "import pandas as pd\n",
    "import requests"
   ]
  },
  {
   "cell_type": "code",
   "execution_count": 2,
   "id": "5f087319",
   "metadata": {},
   "outputs": [],
   "source": [
    "# read the merged CSV file into a pandas dataframe\n",
    "merged_df = pd.read_csv('humanmade_scenarioreports_clean.csv')"
   ]
  },
  {
   "cell_type": "code",
   "execution_count": 3,
   "id": "4c801263",
   "metadata": {},
   "outputs": [],
   "source": [
    "# create a directory to store the downloaded HTML files\n",
    "if not os.path.exists('html_files'):\n",
    "    os.makedirs('html_files')"
   ]
  },
  {
   "cell_type": "code",
   "execution_count": null,
   "id": "525df992",
   "metadata": {},
   "outputs": [
    {
     "name": "stdout",
     "output_type": "stream",
     "text": [
      "Downloaded html_files/White paper on the future of Europe: Five scenarios.html\n",
      "Downloaded html_files/The ‘Scenarios for a sustainable Europe in 2050’ project\n",
      "  —\n",
      "\n",
      "  European Environment Agency.html\n",
      "Downloaded html_files/Future of Europe: 5 scenarios | Culture Action Europe.html\n",
      "Downloaded html_files/The Future of Power: European Utility Scenarios.html\n",
      "Downloaded html_files/Three Scenarios for Europe’s Conflict Landscape in 2030 | DGAP.html\n",
      "Downloaded html_files/Future Scenarios of the European Union | Pollux - Informationsdienst Politikwissenschaft.html\n",
      "Downloaded html_files/Scenarios - TYNDP.html\n",
      "Downloaded html_files/Future migration scenarios for Europe.html\n",
      "Downloaded html_files/Project - Scenarios on the future of fossil gas in the EU.html\n",
      "Downloaded html_files/Future Scenarios for the European Higher Education Area: Exploring the Possibilities of “Experimentalist Governance” | SpringerLink.html\n",
      "Downloaded html_files/Differentiated EUrope 2035: Elaboration and Evaluation of Five Potential Scenarios – EUIDEA.html\n",
      "Downloaded html_files/Scenarios >> VERA - Forward Visions on the European Research Area.html\n",
      "Downloaded html_files/Future scenarios - Sophie.html\n",
      "Downloaded html_files/Jean-Claude Juncker’s white paper on the future of Europe: five scenarios not to make a choice | European Greens.html\n",
      "Downloaded html_files/Future Migration Scenarios for Europe (FUME) | IIASA.html\n",
      "Downloaded html_files/The Future of Europe - Territorial Scenarios — Futures Platform.html\n",
      "Downloaded html_files/THE FUTURE OF MIGRATION IN THE EUROPEAN UNION: Future scenarios and tools to stimulate forward-looking discussions | i.Map.html\n",
      "Downloaded html_files/Five Scenarios for Europe –  Understanding the EU Commission’s White Paper on the Future of Europe – Verfassungsblog.html\n",
      "Downloaded html_files/Europe’s future energy system in four scenarios | en:former.html\n",
      "Downloaded html_files/Climate Change, Displacement, Mobility and Migration: The State of Evidence, Future Scenarios, Policy Options | Population Europe.html\n",
      "Downloaded html_files/The Future of Europe : alternative scenarios.html\n",
      "Downloaded html_files/Europe at the cusp of a new era - scenarios for European business.html\n",
      "Downloaded html_files/How might the European bioeconomy look in 2050? Experts unveil 4 future scenarios – Water Europe.html\n",
      "Downloaded html_files/Future Migration Scenarios.html\n",
      "Downloaded html_files/Kick-off: Future Migration Scenarios for Europe | Nordregio.html\n",
      "Downloaded html_files/Future scenarios for sustainable and circular plastics | Covestro AG.html\n",
      "Downloaded html_files/Future scenarios for maritime transport in Europe – PortEconomics.html\n",
      "Downloaded html_files/Climate impact induced crisis in Europe: An exploration of scenarios | PreventionWeb.html\n",
      "Downloaded html_files/Scenarios and Transition Pathways – openENTRANCE.html\n",
      "Downloaded html_files/Methods for assessing future scenarios from a sustainability perspective | European Journal of Futures Research | Full Text.html\n",
      "Downloaded html_files/Future scenarios for the European railway sector: A methodology based on past trends and a stated preference survey: International Journal of Sustainable Transportation: Vol 17, No 2.html\n",
      "Downloaded html_files/Frontiers | Future Socio-political Scenarios for Aquatic Resources in Europe: An Operationalized Framework for Marine Fisheries Projections.html\n",
      "Downloaded html_files/The Future of the European Union: Scenarios for the Start of the New Legislature | IAI Istituto Affari Internazionali.html\n",
      "Downloaded html_files/The Good, the Bad and the Ugly: Three Scenarios about the Future of Europe.html\n",
      "Downloaded html_files/What future for mobility in Europe: consensus making for future scenarios | by European Transport and Mobility Forum Mobility4EU | Medium.html\n",
      "Downloaded html_files/Future scenarios for research and innovation policies in Europe.html\n",
      "Downloaded html_files/Four scenarios for Europe: Introduction of the scenarios - RaboResearch.html\n",
      "Downloaded html_files/Scenarios of an unpredictable future and today's development strategies - METREX.html\n",
      "Downloaded html_files/SALTO-YOUTH - European Training Calendar - Sustainability Academy: building  Future(s) Scenarios!.html\n",
      "Downloaded html_files/Impressions - Policy Booklet: Understanding impacts and adaptation to high-end climate scenarios in Europe.html\n",
      "Downloaded html_files/Extreme fires: past trends and future scenarios - FirEUrisk.html\n",
      "Downloaded html_files/Discover the future(s)! Four scenarios for future-proof crops - Euroseeds.html\n",
      "Downloaded html_files/Four possible scenarios for the EU in 2023, 30 years after Maastricht – EURACTIV.com.html\n",
      "Downloaded html_files/Four future scenarios for maritime transport in Europe.html\n",
      "Downloaded html_files/Developing future scenarios for the sustainable use of pesticides | RAND.html\n",
      "Downloaded html_files/Using scenarios to understand the changing face of Europe’s cities and regions | Saïd Business School.html\n",
      "Downloaded html_files/Asking Magical Questions: Scenarios to explore the future of innovation agencies - Observatory of Public Sector Innovation.html\n",
      "Downloaded html_files/Culture in EU External Relations: Strategic Reflections and Future Scenarios | UNU-CRIS.html\n",
      "Downloaded html_files/[PDF] The Future of Migration in the European Union: Future scenarios and tools to stimulate forward-looking discussions | Semantic Scholar.html\n",
      "Downloaded html_files/Future 2040 Scenarios - INHERIT.html\n"
     ]
    }
   ],
   "source": [
    "# loop through each row in the dataframe and download the HTML content\n",
    "for i, row in merged_df.iterrows():\n",
    "    url = row['URL']\n",
    "    title = row['Title']\n",
    "    response = requests.get(url)\n",
    "    if response.ok:\n",
    "        html_content = response.text\n",
    "        filename = f\"html_files/{title}.html\"\n",
    "        with open(filename, 'w', encoding='utf-8') as f:\n",
    "            f.write(html_content)\n",
    "        print(f\"Downloaded {filename}\")\n",
    "    else:\n",
    "        print(f\"Failed to download {url}\")"
   ]
  },
  {
   "cell_type": "code",
   "execution_count": null,
   "id": "d74f3bd3",
   "metadata": {},
   "outputs": [],
   "source": []
  },
  {
   "cell_type": "code",
   "execution_count": null,
   "id": "ac84c04c",
   "metadata": {},
   "outputs": [],
   "source": []
  },
  {
   "cell_type": "code",
   "execution_count": null,
   "id": "f5013c51",
   "metadata": {},
   "outputs": [],
   "source": []
  },
  {
   "cell_type": "code",
   "execution_count": null,
   "id": "0a68ea56",
   "metadata": {},
   "outputs": [],
   "source": []
  }
 ],
 "metadata": {
  "kernelspec": {
   "display_name": "Python 3 (ipykernel)",
   "language": "python",
   "name": "python3"
  },
  "language_info": {
   "codemirror_mode": {
    "name": "ipython",
    "version": 3
   },
   "file_extension": ".py",
   "mimetype": "text/x-python",
   "name": "python",
   "nbconvert_exporter": "python",
   "pygments_lexer": "ipython3",
   "version": "3.8.12"
  }
 },
 "nbformat": 4,
 "nbformat_minor": 5
}
