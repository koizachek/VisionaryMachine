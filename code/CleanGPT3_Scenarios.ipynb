{
 "cells": [
  {
   "cell_type": "code",
   "execution_count": 2,
   "id": "96ac63fe",
   "metadata": {},
   "outputs": [],
   "source": [
    "import pandas as pd"
   ]
  },
  {
   "cell_type": "code",
   "execution_count": 15,
   "id": "b020e966",
   "metadata": {},
   "outputs": [],
   "source": [
    "df = pd.read_excel('gpt3_scenarios.xlsx')"
   ]
  },
  {
   "cell_type": "code",
   "execution_count": 16,
   "id": "bffc6ad5",
   "metadata": {},
   "outputs": [],
   "source": [
    "# Define a function to split the text at the '.' and keep the part before it, including the '.'\n",
    "def split_text(text):\n",
    "    split = text.split('.', 1)\n",
    "    return split[0] + '.' if len(split) > 1 else split[0]\n",
    "\n",
    "# Apply the function to the 'scenario' column\n",
    "df['scenario'] = df['scenario'].apply(split_text)\n",
    "\n",
    "# Print the updated DataFrame\n",
    "df"
   ]
  },
  {
   "cell_type": "code",
   "execution_count": 14,
   "id": "bb9aabc4",
   "metadata": {},
   "outputs": [],
   "source": [
    "df.to_excel('gpt3_scenarios_clean.xlsx', index = False)"
   ]
  },
  {
   "cell_type": "code",
   "execution_count": null,
   "id": "492c9a79",
   "metadata": {},
   "outputs": [],
   "source": []
  },
  {
   "cell_type": "code",
   "execution_count": null,
   "id": "beaac47e",
   "metadata": {},
   "outputs": [],
   "source": []
  }
 ],
 "metadata": {
  "kernelspec": {
   "display_name": "Python 3 (ipykernel)",
   "language": "python",
   "name": "python3"
  },
  "language_info": {
   "codemirror_mode": {
    "name": "ipython",
    "version": 3
   },
   "file_extension": ".py",
   "mimetype": "text/x-python",
   "name": "python",
   "nbconvert_exporter": "python",
   "pygments_lexer": "ipython3",
   "version": "3.8.12"
  }
 },
 "nbformat": 4,
 "nbformat_minor": 5
}
