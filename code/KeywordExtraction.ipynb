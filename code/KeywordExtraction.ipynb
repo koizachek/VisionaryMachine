{
 "cells": [
  {
   "cell_type": "code",
   "execution_count": 57,
   "id": "ffd7ee9e",
   "metadata": {},
   "outputs": [],
   "source": [
    "import pandas as pd\n",
    "from rake_nltk import Rake"
   ]
  },
  {
   "cell_type": "code",
   "execution_count": 68,
   "id": "11f0c2d4",
   "metadata": {},
   "outputs": [],
   "source": [
    "df= pd.read_csv('ScenarioCollection23.csv')\n",
    "df = df.drop(['key-word', 'prompt'], axis=1)\n",
    "scenario = df['scenario']"
   ]
  },
  {
   "cell_type": "code",
   "execution_count": 69,
   "id": "8f9057cc",
   "metadata": {},
   "outputs": [],
   "source": [
    "#clean\n",
    "scenario = scenario.dropna().drop_duplicates().str.lower()"
   ]
  },
  {
   "cell_type": "code",
   "execution_count": 81,
   "id": "6a2aa927",
   "metadata": {},
   "outputs": [
    {
     "data": {
      "text/html": [
       "<div>\n",
       "<style scoped>\n",
       "    .dataframe tbody tr th:only-of-type {\n",
       "        vertical-align: middle;\n",
       "    }\n",
       "\n",
       "    .dataframe tbody tr th {\n",
       "        vertical-align: top;\n",
       "    }\n",
       "\n",
       "    .dataframe thead th {\n",
       "        text-align: right;\n",
       "    }\n",
       "</style>\n",
       "<table border=\"1\" class=\"dataframe\">\n",
       "  <thead>\n",
       "    <tr style=\"text-align: right;\">\n",
       "      <th></th>\n",
       "      <th>year</th>\n",
       "      <th>scenario</th>\n",
       "      <th>keyword</th>\n",
       "    </tr>\n",
       "  </thead>\n",
       "  <tbody>\n",
       "    <tr>\n",
       "      <th>0</th>\n",
       "      <td>2030</td>\n",
       "      <td>multinational negotiations for repurposing was...</td>\n",
       "      <td>manufacturing</td>\n",
       "    </tr>\n",
       "    <tr>\n",
       "      <th>1</th>\n",
       "      <td>2030</td>\n",
       "      <td>the global acknowledgement of overfishing and ...</td>\n",
       "      <td>singapore</td>\n",
       "    </tr>\n",
       "    <tr>\n",
       "      <th>2</th>\n",
       "      <td>2030</td>\n",
       "      <td>coca (cities of climate action) agree on plane...</td>\n",
       "      <td>necessary</td>\n",
       "    </tr>\n",
       "    <tr>\n",
       "      <th>3</th>\n",
       "      <td>2030</td>\n",
       "      <td>the parliament of the commons was established ...</td>\n",
       "      <td>commons</td>\n",
       "    </tr>\n",
       "    <tr>\n",
       "      <th>4</th>\n",
       "      <td>2030</td>\n",
       "      <td>the climate march was held in response to food...</td>\n",
       "      <td>response</td>\n",
       "    </tr>\n",
       "  </tbody>\n",
       "</table>\n",
       "</div>"
      ],
      "text/plain": [
       "   year                                           scenario        keyword\n",
       "0  2030  multinational negotiations for repurposing was...  manufacturing\n",
       "1  2030  the global acknowledgement of overfishing and ...      singapore\n",
       "2  2030  coca (cities of climate action) agree on plane...      necessary\n",
       "3  2030  the parliament of the commons was established ...        commons\n",
       "4  2030  the climate march was held in response to food...       response"
      ]
     },
     "execution_count": 81,
     "metadata": {},
     "output_type": "execute_result"
    }
   ],
   "source": [
    "# initialize RAKE\n",
    "r = Rake()\n",
    "\n",
    "# define a function to extract the top keyword\n",
    "def extract_top_keyword(text):\n",
    "    r.extract_keywords_from_text(text)\n",
    "    keywords = r.get_ranked_phrases_with_scores()\n",
    "    for score, keyword in keywords:\n",
    "        if len(keyword.split()) == 1:\n",
    "            return keyword\n",
    "\n",
    "# apply the function to the 'scenario' column\n",
    "df['keyword'] = scenario.apply(extract_top_keyword)\n",
    "df.dropna(inplace=True)\n",
    "df.head()"
   ]
  },
  {
   "cell_type": "code",
   "execution_count": 80,
   "id": "ee8cd124",
   "metadata": {},
   "outputs": [],
   "source": [
    "#download as csv\n",
    "\n",
    "#df.to_csv('humanscenario_singlekeyword.csv', index = False)"
   ]
  },
  {
   "cell_type": "code",
   "execution_count": null,
   "id": "cac4a27c",
   "metadata": {},
   "outputs": [],
   "source": []
  }
 ],
 "metadata": {
  "kernelspec": {
   "display_name": "Python 3 (ipykernel)",
   "language": "python",
   "name": "python3"
  },
  "language_info": {
   "codemirror_mode": {
    "name": "ipython",
    "version": 3
   },
   "file_extension": ".py",
   "mimetype": "text/x-python",
   "name": "python",
   "nbconvert_exporter": "python",
   "pygments_lexer": "ipython3",
   "version": "3.8.12"
  }
 },
 "nbformat": 4,
 "nbformat_minor": 5
}
