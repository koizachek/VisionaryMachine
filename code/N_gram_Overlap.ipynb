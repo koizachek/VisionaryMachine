{
 "cells": [
  {
   "cell_type": "code",
   "execution_count": 20,
   "id": "759ce05b",
   "metadata": {},
   "outputs": [],
   "source": [
    "import pandas as pd\n",
    "from nltk.util import ngrams\n",
    "from collections import Counter\n",
    "from transformers import AutoTokenizer"
   ]
  },
  {
   "cell_type": "code",
   "execution_count": 21,
   "id": "92a1551d",
   "metadata": {},
   "outputs": [],
   "source": [
    "n_values = [1, 2, 3]"
   ]
  },
  {
   "cell_type": "code",
   "execution_count": 22,
   "id": "f077431e",
   "metadata": {},
   "outputs": [
    {
     "data": {
      "application/vnd.jupyter.widget-view+json": {
       "model_id": "ce6a981674cb44d6993772d8a88adcc8",
       "version_major": 2,
       "version_minor": 0
      },
      "text/plain": [
       "Downloading:   0%|          | 0.00/665 [00:00<?, ?B/s]"
      ]
     },
     "metadata": {},
     "output_type": "display_data"
    },
    {
     "data": {
      "application/vnd.jupyter.widget-view+json": {
       "model_id": "570b5c91005844d98696baa920f8887a",
       "version_major": 2,
       "version_minor": 0
      },
      "text/plain": [
       "Downloading:   0%|          | 0.00/0.99M [00:00<?, ?B/s]"
      ]
     },
     "metadata": {},
     "output_type": "display_data"
    },
    {
     "data": {
      "application/vnd.jupyter.widget-view+json": {
       "model_id": "e4177f6610c1447891ca6be36a716dc7",
       "version_major": 2,
       "version_minor": 0
      },
      "text/plain": [
       "Downloading:   0%|          | 0.00/446k [00:00<?, ?B/s]"
      ]
     },
     "metadata": {},
     "output_type": "display_data"
    },
    {
     "data": {
      "application/vnd.jupyter.widget-view+json": {
       "model_id": "724433e986ea44cb85d4af8f0743cc41",
       "version_major": 2,
       "version_minor": 0
      },
      "text/plain": [
       "Downloading:   0%|          | 0.00/1.29M [00:00<?, ?B/s]"
      ]
     },
     "metadata": {},
     "output_type": "display_data"
    }
   ],
   "source": [
    "# Load the tokenizer\n",
    "tokenizer = AutoTokenizer.from_pretrained('gpt2')"
   ]
  },
  {
   "cell_type": "code",
   "execution_count": 49,
   "id": "9f8cccfc",
   "metadata": {},
   "outputs": [],
   "source": [
    "# Read the two CSV files containing the scenarios\n",
    "training_dataset = pd.read_excel('human_scenarios.xlsx')['scenario'].tolist()\n",
    "generated_dataset = pd.read_excel('gpt4_scenarios.xlsx')['scenario'].tolist()"
   ]
  },
  {
   "cell_type": "code",
   "execution_count": 50,
   "id": "659e386d",
   "metadata": {},
   "outputs": [],
   "source": [
    "overlap_scores = {}\n",
    "precision_scores = {}\n",
    "recall_scores = {}\n",
    "f1_scores = {}"
   ]
  },
  {
   "cell_type": "code",
   "execution_count": 51,
   "id": "e358426c",
   "metadata": {},
   "outputs": [],
   "source": [
    "# Calculate n-gram overlap, precision, recall and f1 score for each value of n\n",
    "for n in n_values:\n",
    "    # Tokenize the training dataset\n",
    "    training_tokens = [tokenizer.tokenize(sent) for sent in training_dataset]\n",
    "    training_ngrams = [ngrams(tokens, n) for tokens in training_tokens]\n",
    "    training_ngrams = [ng for sent in training_ngrams for ng in sent]\n",
    "    \n",
    "    # Tokenize the generated dataset\n",
    "    generated_tokens = [tokenizer.tokenize(sent) for sent in generated_dataset]\n",
    "    generated_ngrams = [ngrams(tokens, n) for tokens in generated_tokens]\n",
    "    generated_ngrams = [ng for sent in generated_ngrams for ng in sent]\n",
    "    \n",
    "    # Calculate the intersection of n-grams in the two datasets\n",
    "    overlap_count = sum((Counter(training_ngrams) & Counter(generated_ngrams)).values())\n",
    "    \n",
    "    # Calculate the total number of n-grams in the generated dataset\n",
    "    generated_count = sum(Counter(generated_ngrams).values())\n",
    "    \n",
    "    # Calculate the total number of n-grams in the training dataset\n",
    "    training_count = sum(Counter(training_ngrams).values())\n",
    "    \n",
    "    # Calculate the precision, recall and f1 score for this value of n\n",
    "    precision_score = overlap_count / generated_count\n",
    "    recall_score = overlap_count / training_count\n",
    "    f1_score = 2 * (precision_score * recall_score) / (precision_score + recall_score)\n",
    "    \n",
    "    # Store the overlap score, precision, recall and f1 score for this value of n\n",
    "    overlap_scores[n] = overlap_count / generated_count\n",
    "    precision_scores[n] = precision_score\n",
    "    recall_scores[n] = recall_score\n",
    "    f1_scores[n] = f1_score"
   ]
  },
  {
   "cell_type": "code",
   "execution_count": 52,
   "id": "baf09f98",
   "metadata": {},
   "outputs": [
    {
     "name": "stdout",
     "output_type": "stream",
     "text": [
      "Overlap scores: {1: 0.5785109838447731, 2: 0.17663190073727747, 3: 0.03622569938359412}\n",
      "Precision scores: {1: 0.5785109838447731, 2: 0.17663190073727747, 3: 0.03622569938359412}\n",
      "Recall scores: {1: 0.4236487120903884, 2: 0.12752767048589697, 3: 0.025752519634610848}\n",
      "F1 scores: {1: 0.48911452781441395, 2: 0.14811603490848774, 3: 0.030104222077742975}\n"
     ]
    }
   ],
   "source": [
    "print(f'Overlap scores: {overlap_scores}')\n",
    "print(f'Precision scores: {precision_scores}')\n",
    "print(f'Recall scores: {recall_scores}')\n",
    "print(f'F1 scores: {f1_scores}')"
   ]
  },
  {
   "cell_type": "markdown",
   "id": "2d3459e5",
   "metadata": {},
   "source": [
    "Gpt4_finetuned_scenarios results: \n",
    "\n",
    "Overlap scores: {1: 0.4461530730187447, 2: 0.2274394338550545, 3: 0.10353897656623626}\n",
    "Precision scores: {1: 0.4461530730187447, 2: 0.2274394338550545, 3: 0.10353897656623626}\n",
    "Recall scores: {1: 0.7588682793401146, 2: 0.395882035605107, 3: 0.18477951635846374}\n",
    "F1 scores: {1: 0.5619342996392177, 2: 0.2889012827663135, 3: 0.13271352676747036}\n",
    "\n"
   ]
  },
  {
   "cell_type": "code",
   "execution_count": null,
   "id": "42a1d0b0",
   "metadata": {},
   "outputs": [],
   "source": []
  },
  {
   "cell_type": "code",
   "execution_count": null,
   "id": "c6a6c3d9",
   "metadata": {},
   "outputs": [],
   "source": []
  },
  {
   "cell_type": "code",
   "execution_count": null,
   "id": "d898bd33",
   "metadata": {},
   "outputs": [],
   "source": []
  },
  {
   "cell_type": "code",
   "execution_count": null,
   "id": "003ad982",
   "metadata": {},
   "outputs": [],
   "source": []
  }
 ],
 "metadata": {
  "kernelspec": {
   "display_name": "Python 3 (ipykernel)",
   "language": "python",
   "name": "python3"
  },
  "language_info": {
   "codemirror_mode": {
    "name": "ipython",
    "version": 3
   },
   "file_extension": ".py",
   "mimetype": "text/x-python",
   "name": "python",
   "nbconvert_exporter": "python",
   "pygments_lexer": "ipython3",
   "version": "3.8.12"
  }
 },
 "nbformat": 4,
 "nbformat_minor": 5
}
