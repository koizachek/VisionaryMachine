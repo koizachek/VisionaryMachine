{
 "cells": [
  {
   "cell_type": "code",
   "execution_count": 23,
   "id": "fdaa7c82",
   "metadata": {},
   "outputs": [],
   "source": [
    "import openai\n",
    "import pandas as pd\n",
    "import os"
   ]
  },
  {
   "cell_type": "code",
   "execution_count": 24,
   "id": "af8d1113",
   "metadata": {},
   "outputs": [],
   "source": [
    "# Set up OpenAI API key\n",
    "openai.api_key = \"Here_goes_your_own_key\""
   ]
  },
  {
   "cell_type": "code",
   "execution_count": 25,
   "id": "f1da34b3",
   "metadata": {},
   "outputs": [],
   "source": [
    "topics = [\"economy\", \"ecology\", \"education\", \"religion\", \"art\", \"media\", \"society\", \"technology\", \"science\", \"healthcare\", \"labour\", \"culture\"]\n",
    "years = [2030, 2040, 2050]"
   ]
  },
  {
   "cell_type": "code",
   "execution_count": 26,
   "id": "444593bc",
   "metadata": {},
   "outputs": [],
   "source": [
    "def generate_prompt(topic, year):\n",
    "    return f\"Anticipate a future scenario for the European {topic} in the {year}:\""
   ]
  },
  {
   "cell_type": "code",
   "execution_count": 27,
   "id": "43436e13",
   "metadata": {},
   "outputs": [],
   "source": [
    "def generate_scenario(prompt):\n",
    "    response = openai.Completion.create(\n",
    "        engine=\"davinci:ft-personal-2023-03-26-12-31-01\", #human-finetune: davinci:ft-personal-2023-03-26-12-31-01; gpt4-finetune: davinci:ft-personal-2023-03-26-13-56-52\n",
    "        prompt=prompt,\n",
    "        max_tokens=38,\n",
    "        temperature=0.9,\n",
    "        top_p=0.5,\n",
    "        frequency_penalty=1.9,\n",
    "        presence_penalty=1.9,\n",
    "    )\n",
    "    return response.choices[0].text.strip()"
   ]
  },
  {
   "cell_type": "code",
   "execution_count": 28,
   "id": "9e099bf9",
   "metadata": {},
   "outputs": [],
   "source": [
    "years_list = []\n",
    "topics_list = []\n",
    "prompts_list = []\n",
    "scenarios_list = []"
   ]
  },
  {
   "cell_type": "code",
   "execution_count": null,
   "id": "cd79f586",
   "metadata": {},
   "outputs": [],
   "source": [
    "for topic in topics:\n",
    "    for year in years:\n",
    "        for _ in range(30):\n",
    "            prompt = generate_prompt(topic, year)\n",
    "            scenario = generate_scenario(prompt)\n",
    "            years_list.append(year)\n",
    "            topics_list.append(topic)\n",
    "            prompts_list.append(prompt)\n",
    "            scenarios_list.append(scenario)"
   ]
  },
  {
   "cell_type": "code",
   "execution_count": null,
   "id": "2a4c2b0a",
   "metadata": {},
   "outputs": [],
   "source": [
    "df = pd.DataFrame({\"year\": years_list, \"topic\": topics_list, \"prompt\": prompts_list, \"scenario\": scenarios_list})\n",
    "df"
   ]
  },
  {
   "cell_type": "code",
   "execution_count": 22,
   "id": "052a5219",
   "metadata": {},
   "outputs": [],
   "source": [
    "df.to_csv('human_finetuned_gpt3_scenarios.csv', index = False)"
   ]
  },
  {
   "cell_type": "code",
   "execution_count": null,
   "id": "88f3571b",
   "metadata": {},
   "outputs": [],
   "source": []
  }
 ],
 "metadata": {
  "kernelspec": {
   "display_name": "Python 3 (ipykernel)",
   "language": "python",
   "name": "python3"
  },
  "language_info": {
   "codemirror_mode": {
    "name": "ipython",
    "version": 3
   },
   "file_extension": ".py",
   "mimetype": "text/x-python",
   "name": "python",
   "nbconvert_exporter": "python",
   "pygments_lexer": "ipython3",
   "version": "3.8.12"
  }
 },
 "nbformat": 4,
 "nbformat_minor": 5
}
