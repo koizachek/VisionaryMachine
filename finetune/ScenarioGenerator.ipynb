{
 "cells": [
  {
   "cell_type": "code",
   "execution_count": null,
   "id": "fdaa7c82",
   "metadata": {},
   "outputs": [],
   "source": [
    "import csv\n",
    "import openai\n",
    "import time"
   ]
  },
  {
   "cell_type": "code",
   "execution_count": null,
   "id": "af8d1113",
   "metadata": {},
   "outputs": [],
   "source": [
    "# Set up OpenAI API key\n",
    "openai.api_key = \"___\""
   ]
  },
  {
   "cell_type": "code",
   "execution_count": null,
   "id": "f1da34b3",
   "metadata": {},
   "outputs": [],
   "source": [
    "# Set up the fine-tuned GPT-3 model ID\n",
    "model_id = \"____\""
   ]
  },
  {
   "cell_type": "code",
   "execution_count": null,
   "id": "444593bc",
   "metadata": {},
   "outputs": [],
   "source": [
    "# function to generate text from the fine-tuned GPT-3 model\n",
    "def generate_text(prompt):\n",
    "    # Use the OpenAI API to generate text from the model\n",
    "    response = openai.Completion.create(\n",
    "        engine=model_id,\n",
    "        prompt=prompt,\n",
    "        max_tokens=1024,\n",
    "        n=1,\n",
    "        stop=None,\n",
    "        temperature=0.7,\n",
    "    )\n",
    "\n",
    "    # Extract the generated text from the API response\n",
    "    generated_text = response.choices[0].text.strip()\n",
    "\n",
    "    return generated_text"
   ]
  },
  {
   "cell_type": "code",
   "execution_count": null,
   "id": "9e099bf9",
   "metadata": {},
   "outputs": [],
   "source": [
    "# Define a list of topics and years you want \n",
    "topics = [\"education\", \"politics\", \"economy\", \"ecology\", \"media\", \"art\", \"lifestyle\", \"health\", \"technology\", \"science\", \"religion\", \"labour\"]\n",
    "years = [\"2030\", \"2040\", \"2050\"]"
   ]
  },
  {
   "cell_type": "code",
   "execution_count": null,
   "id": "cd79f586",
   "metadata": {},
   "outputs": [],
   "source": [
    "# Open the CSV file and write the header row\n",
    "with open(\"generated_text.csv\", \"w\", newline=\"\", encoding=\"utf-8\") as csvfile:\n",
    "    writer = csv.writer(csvfile)\n",
    "    header = [\"topic\", \"year\", \"scenario\", \"generated_text\"]\n",
    "    writer.writerow(header)\n",
    "    \n",
    "    # Generate text for each topic and year\n",
    "    for topic in topics:\n",
    "        for year in years:\n",
    "            for i in range(1, 31): # Generate 30 scenarios for each prompt, you can choose a different number\n",
    "                prompt = f\"generate {i} scenarios on {topic} in europe in {year}\"\n",
    "                generated_text = generate_text(prompt)\n",
    "\n",
    "                # Write the generated text to the CSV file\n",
    "                row = [topic, year, i, generated_text]\n",
    "                writer.writerow(row)\n",
    "\n",
    "                # Print a status message to the console\n",
    "                print(f\"Generated text for topic '{topic}', year '{year}', scenario '{i}'\")\n",
    "\n",
    "                # Wait for a few seconds to avoid hitting API rate limits\n",
    "                time.sleep(2)"
   ]
  },
  {
   "cell_type": "code",
   "execution_count": null,
   "id": "2a4c2b0a",
   "metadata": {},
   "outputs": [],
   "source": []
  },
  {
   "cell_type": "code",
   "execution_count": null,
   "id": "052a5219",
   "metadata": {},
   "outputs": [],
   "source": []
  }
 ],
 "metadata": {
  "kernelspec": {
   "display_name": "Python 3 (ipykernel)",
   "language": "python",
   "name": "python3"
  },
  "language_info": {
   "codemirror_mode": {
    "name": "ipython",
    "version": 3
   },
   "file_extension": ".py",
   "mimetype": "text/x-python",
   "name": "python",
   "nbconvert_exporter": "python",
   "pygments_lexer": "ipython3",
   "version": "3.8.12"
  }
 },
 "nbformat": 4,
 "nbformat_minor": 5
}
