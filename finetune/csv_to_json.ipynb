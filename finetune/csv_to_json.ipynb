{
 "cells": [
  {
   "cell_type": "markdown",
   "id": "12c9ddc0",
   "metadata": {},
   "source": [
    "Preparing your training data"
   ]
  },
  {
   "cell_type": "code",
   "execution_count": 2,
   "id": "6e33954d",
   "metadata": {},
   "outputs": [],
   "source": [
    "import csv\n",
    "import json"
   ]
  },
  {
   "cell_type": "code",
   "execution_count": 12,
   "id": "7cf0dc3c",
   "metadata": {},
   "outputs": [],
   "source": [
    "def csv_to_json(csv_file, json_file):\n",
    "    data = []\n",
    "    with open(csv_file, 'r') as file:\n",
    "        reader = csv.reader(file, delimiter=';')\n",
    "        header = next(reader)  \n",
    "        print(header)  \n",
    "        for row in reader:\n",
    "            prompt = row[0]  #prompt is in the first column\n",
    "            completion = row[1]  # completion is in the second column\n",
    "            item = {\"prompt\": prompt, \"completion\": completion}\n",
    "            data.append(item)\n",
    "\n",
    "    with open(json_file, 'w') as file:\n",
    "        for item in data:\n",
    "            file.write(json.dumps(item) + '\\n')\n",
    "\n",
    "    print(f\"Conversion completed. JSON file saved as '{json_file}'.\")"
   ]
  },
  {
   "cell_type": "code",
   "execution_count": 13,
   "id": "3a1a9698",
   "metadata": {},
   "outputs": [
    {
     "name": "stdout",
     "output_type": "stream",
     "text": [
      "['\\ufeffprompt', 'completion']\n",
      "Conversion completed. JSON file saved as 'allgpt_readytofine.json'.\n"
     ]
    }
   ],
   "source": [
    "csv_file = 'allgpttofine.csv'\n",
    "json_file = 'allgpt_readytofine.json'\n",
    "csv_to_json(csv_file, json_file)"
   ]
  },
  {
   "cell_type": "code",
   "execution_count": null,
   "id": "8d5500b4",
   "metadata": {},
   "outputs": [],
   "source": []
  },
  {
   "cell_type": "code",
   "execution_count": null,
   "id": "ad500a2a",
   "metadata": {},
   "outputs": [],
   "source": []
  }
 ],
 "metadata": {
  "kernelspec": {
   "display_name": "Python 3 (ipykernel)",
   "language": "python",
   "name": "python3"
  },
  "language_info": {
   "codemirror_mode": {
    "name": "ipython",
    "version": 3
   },
   "file_extension": ".py",
   "mimetype": "text/x-python",
   "name": "python",
   "nbconvert_exporter": "python",
   "pygments_lexer": "ipython3",
   "version": "3.8.12"
  }
 },
 "nbformat": 4,
 "nbformat_minor": 5
}
